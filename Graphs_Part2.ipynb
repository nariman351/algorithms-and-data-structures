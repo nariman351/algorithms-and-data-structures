{
  "nbformat": 4,
  "nbformat_minor": 0,
  "metadata": {
    "colab": {
      "provenance": []
    },
    "kernelspec": {
      "name": "python3",
      "display_name": "Python 3"
    },
    "language_info": {
      "name": "python"
    }
  },
  "cells": [
    {
      "cell_type": "markdown",
      "source": [
        "Creating Graph class:"
      ],
      "metadata": {
        "id": "Lx-FrQGdcAyS"
      }
    },
    {
      "cell_type": "code",
      "source": [
        "class Graph(object):\n",
        "  def __init__(self, graph=None):\n",
        "    if graph == None:\n",
        "      graph = {}\n",
        "    self.__graph = graph\n",
        "\n",
        "  def add_node(self, node):\n",
        "    if node not in self.__graph:\n",
        "      self.__graph[node] = []\n",
        "  \n",
        "  def add_edge(self, edge):\n",
        "    edge = set(edge)\n",
        "    (node1, node2) = tuple(edge)\n",
        "    if node1 in self.__graph:\n",
        "      self.__graph[node1].append(node2)\n",
        "    else:\n",
        "      self.__graph[node1] = [node2]\n",
        "\n",
        "  def nodes(self):\n",
        "    return list(self.__graph.keys())\n",
        "\n",
        "  def edges(self):\n",
        "    edges = []\n",
        "    for node in self.__graph:\n",
        "      for neighbour in self.__graph[node]:\n",
        "        if (neighbour, node) not in edges:\n",
        "          edges.append((node, neighbour))\n",
        "\n",
        "    return edges\n",
        "  \n",
        "  def __str__(self):\n",
        "    res = \"nodes: \"\n",
        "    for node in self.nodes():\n",
        "      res += str(node) + \" \"\n",
        "    res += \"\\nedeges: \"\n",
        "    for edge in self.edges():\n",
        "      res += str(edge) + \" \"\n",
        "    return res\n",
        "  \n",
        "  def find_path(self, start_node, end_node, path=None):\n",
        "    if path == None:\n",
        "      path = []\n",
        "    graph = self.__graph\n",
        "    path = path + [start_node]\n",
        "    if start_node == end_node:\n",
        "      return path\n",
        "    if start_node not in graph:\n",
        "      return None\n",
        "    for node in graph[start_node]:\n",
        "      if node not in path:\n",
        "        extended_path = self.find_path(node, end_node, path)\n",
        "        if extended_path:\n",
        "          return extended_path\n",
        "    return None\n",
        "      \n",
        "  def find_all_paths(self, start_vertex, end_vertex, path = []):\n",
        "    \"find all possible paths from start vertex to end vertex in graph\"\n",
        "    graph = self.__graph\n",
        "    path = path + [start_vertex]\n",
        "    if start_vertex == end_vertex:\n",
        "      return [path]\n",
        "    if start_vertex not in graph:\n",
        "      return []\n",
        "    paths = []\n",
        "    for vertex in graph[start_vertex]:\n",
        "        if vertex not in path:\n",
        "          extended_path = self.find_all_paths(vertex, end_vertex, path)\n",
        "          for p in extended_path:\n",
        "            paths.append(p)\n",
        "    return paths\n",
        "\n",
        "  def node_degree(self,node):\n",
        "    adj_nodes = self.__graph[node]\n",
        "    degree = len(adj_nodes) + adj_nodes.count(node)\n",
        "    return degree\n",
        "\n",
        "  def find_isolated_nodes(self):\n",
        "    graph = self.__graph\n",
        "    isolated = []\n",
        "    for node in graph:\n",
        "      # print(isolated, node)\n",
        "      if not graph[node]:\n",
        "        isolated += [node]\n",
        "    return isolated\n",
        "\n",
        "  def delta(self):\n",
        "    min = float('inf')\n",
        "    for node in self.__graph:\n",
        "        node_degree = self.node_degree(node)\n",
        "        if node_degree < min:\n",
        "            min = node_degree\n",
        "    return min\n",
        "        \n",
        "  def Delta(self):\n",
        "      max = 0\n",
        "      for node in self.__graph:\n",
        "          node_degree = self.node_degree(node)\n",
        "          if node_degree > max:\n",
        "              max = node_degree\n",
        "      return max\n",
        "  \n",
        "  def degree_sequence(self):\n",
        "    seq = []\n",
        "    for node in self.__graph:\n",
        "        seq.append(self.node_degree(node))\n",
        "    seq.sort(reverse=True)\n",
        "    return tuple(seq)\n",
        "\n",
        "  @staticmethod\n",
        "  def is_degree_sequence(seq):\n",
        "    return all( x>=y for x, y in zip(seq, seq[1:]))\n",
        "\n",
        "  @staticmethod\n",
        "  def erdoes_gallai(dsequence):\n",
        "    if sum(dsequence) % 2:\n",
        "        return False\n",
        "    if Graph.is_degree_sequence(dsequence):\n",
        "        for k in range(1,len(dsequence) + 1):\n",
        "            left = sum(dsequence[:k])\n",
        "            right =  k * (k-1) + sum([min(x,k) for x in dsequence[k:]])\n",
        "            if left > right:\n",
        "                return False\n",
        "    else:\n",
        "        return False\n",
        "    return True\n"
      ],
      "metadata": {
        "id": "VXWo9CyQbMAg"
      },
      "execution_count": 31,
      "outputs": []
    },
    {
      "cell_type": "markdown",
      "source": [
        "Measuring minimum and maximum degrees of a graph:"
      ],
      "metadata": {
        "id": "Nb2tDqYSRfcF"
      }
    },
    {
      "cell_type": "code",
      "source": [
        "graph = {\"A\": [\"B\",\"C\"],\n",
        "         \"B\": [\"D\", \"E\", \"A\"],\n",
        "         \"C\": [\"A\"],\n",
        "         \"D\": [\"B\", \"E\"],\n",
        "         \"E\": [\"B\", \"D\"]\n",
        "         }\n",
        "g = Graph(graph)\n",
        "print(\"d(g): \", g.delta())\n",
        "print(\"D(g): \", g.Delta())\n",
        "g.add_node(\"F\")\n",
        "print(g.find_isolated_nodes())"
      ],
      "metadata": {
        "colab": {
          "base_uri": "https://localhost:8080/"
        },
        "id": "3jGJ6EXZMFax",
        "outputId": "54eede91-904b-40bf-a176-5227514b488d"
      },
      "execution_count": 28,
      "outputs": [
        {
          "output_type": "stream",
          "name": "stdout",
          "text": [
            "d(g):  1\n",
            "D(g):  3\n",
            "['F']\n"
          ]
        }
      ]
    },
    {
      "cell_type": "markdown",
      "source": [
        "Showcasing degree sequence of a graph:"
      ],
      "metadata": {
        "id": "exQG5OGHR54I"
      }
    },
    {
      "cell_type": "code",
      "source": [
        "graph = {\"A\": [\"B\",\"C\"],\n",
        "         \"B\": [\"D\", \"E\", \"A\"],\n",
        "         \"C\": [\"A\"],\n",
        "         \"D\": [\"B\", \"E\"],\n",
        "         \"E\": [\"B\", \"D\"]\n",
        "         }\n",
        "g = Graph(graph)\n",
        "print(g.degree_sequence())"
      ],
      "metadata": {
        "colab": {
          "base_uri": "https://localhost:8080/"
        },
        "id": "5eHy4R9ZNB9e",
        "outputId": "7ce1d645-de67-4d25-fa5a-c0caf4783cce"
      },
      "execution_count": 29,
      "outputs": [
        {
          "output_type": "stream",
          "name": "stdout",
          "text": [
            "(3, 2, 2, 2, 1)\n"
          ]
        }
      ]
    },
    {
      "cell_type": "markdown",
      "source": [],
      "metadata": {
        "id": "Vvrl3R7YK0Zj"
      }
    },
    {
      "cell_type": "code",
      "source": [
        "graph = {\"A\": [\"B\",\"C\"],\n",
        "         \"B\": [\"D\", \"E\", \"A\"],\n",
        "         \"C\": [\"A\"],\n",
        "         \"D\": [\"B\", \"E\"],\n",
        "         \"E\": [\"B\", \"D\"]\n",
        "         }\n",
        "g = Graph(graph)\n",
        "s = g.degree_sequence()\n",
        "print(s)\n",
        "print(Graph.erdoes_gallai(s))\n",
        "s2 = [4,3,3,2,2,1,1,1]\n",
        "print(Graph.erdoes_gallai(s))"
      ],
      "metadata": {
        "colab": {
          "base_uri": "https://localhost:8080/"
        },
        "id": "I_qEi5bsSR1H",
        "outputId": "36755709-3cc7-42f5-df4a-d69b9f190ad0"
      },
      "execution_count": 37,
      "outputs": [
        {
          "output_type": "stream",
          "name": "stdout",
          "text": [
            "(3, 2, 2, 2, 1)\n",
            "True\n",
            "True\n"
          ]
        }
      ]
    }
  ]
}