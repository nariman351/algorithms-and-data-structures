{
  "nbformat": 4,
  "nbformat_minor": 0,
  "metadata": {
    "colab": {
      "provenance": []
    },
    "kernelspec": {
      "name": "python3",
      "display_name": "Python 3"
    },
    "language_info": {
      "name": "python"
    }
  },
  "cells": [
    {
      "cell_type": "markdown",
      "source": [
        "A graph depiction using Dictionaries:"
      ],
      "metadata": {
        "id": "7dIR8uDJbZAK"
      }
    },
    {
      "cell_type": "code",
      "execution_count": 37,
      "metadata": {
        "id": "FrQK4iNfW2o_"
      },
      "outputs": [],
      "source": [
        "graph = {\"A\": [\"B\",\"C\"],\n",
        "         \"B\": [\"D\", \"E\", \"A\"],\n",
        "         \"C\": [\"A\"],\n",
        "         \"D\": [\"B\", \"E\"],\n",
        "         \"E\": [\"B\", \"D\"]\n",
        "         }"
      ]
    },
    {
      "cell_type": "markdown",
      "source": [
        "A function that creates relevant edges in non oriented graph:"
      ],
      "metadata": {
        "id": "ayOjiEO8bPCh"
      }
    },
    {
      "cell_type": "code",
      "source": [
        "def edges(graph):\n",
        "  edges = []\n",
        "  for node in graph:\n",
        "    for neighbour in graph[node]:\n",
        "      if (neighbour, node) not in edges:\n",
        "        edges.append((node, neighbour))\n",
        "  return edges\n",
        "\n",
        "print(edges(graph))"
      ],
      "metadata": {
        "colab": {
          "base_uri": "https://localhost:8080/"
        },
        "id": "4UvUUUHiYAZa",
        "outputId": "b9668ce0-a8aa-41be-88c2-fc592a681bfc"
      },
      "execution_count": 38,
      "outputs": [
        {
          "output_type": "stream",
          "name": "stdout",
          "text": [
            "[('A', 'B'), ('A', 'C'), ('B', 'D'), ('B', 'E'), ('D', 'E')]\n"
          ]
        }
      ]
    },
    {
      "cell_type": "markdown",
      "source": [
        "Creating Graph class:"
      ],
      "metadata": {
        "id": "Lx-FrQGdcAyS"
      }
    },
    {
      "cell_type": "code",
      "source": [
        "class Graph(object):\n",
        "  def __init__(self, graph=None):\n",
        "    if graph == None:\n",
        "      graph = {}\n",
        "    self.__graph = graph\n",
        "\n",
        "  def add_node(self, node):\n",
        "    if node not in self.__graph:\n",
        "      self.__graph[node] = []\n",
        "  \n",
        "  def add_edge(self, edge):\n",
        "    edge = set(edge)\n",
        "    (node1, node2) = tuple(edge)\n",
        "    if node1 in self.__graph:\n",
        "      self.__graph[node1].append(node2)\n",
        "    else:\n",
        "      self.__graph[node1] = [node2]\n",
        "\n",
        "  def nodes(self):\n",
        "    return list(self.__graph.keys())\n",
        "\n",
        "  def edges(self):\n",
        "    edges = []\n",
        "    for node in self.__graph:\n",
        "      for neighbour in self.__graph[node]:\n",
        "        if (neighbour, node) not in edges:\n",
        "          edges.append((node, neighbour))\n",
        "\n",
        "    return edges\n",
        "  \n",
        "  def __str__(self):\n",
        "    res = \"nodes: \"\n",
        "    for node in self.nodes():\n",
        "      res += str(node) + \" \"\n",
        "    res += \"\\nedeges: \"\n",
        "    for edge in self.edges():\n",
        "      res += str(edge) + \" \"\n",
        "    return res\n",
        "  \n",
        "  def find_path(self, start_node, end_node, path=None):\n",
        "    if path == None:\n",
        "      path = []\n",
        "    graph = self.__graph\n",
        "    path = path + [start_node]\n",
        "    if start_node == end_node:\n",
        "      return path\n",
        "    if start_node not in graph:\n",
        "      return None\n",
        "    for node in graph[start_node]:\n",
        "      if node not in path:\n",
        "        extended_path = self.find_path(node, end_node, path)\n",
        "        if extended_path:\n",
        "          return extended_path\n",
        "    return None\n",
        "      \n",
        "  def find_all_paths(self, start_vertex, end_vertex, path = []):\n",
        "    \"find all possible paths from start vertex to end vertex in graph\"\n",
        "    graph = self.__graph\n",
        "    path = path + [start_vertex]\n",
        "    if start_vertex == end_vertex:\n",
        "      return [path]\n",
        "    if start_vertex not in graph:\n",
        "      return []\n",
        "    paths = []\n",
        "    for vertex in graph[start_vertex]:\n",
        "        if vertex not in path:\n",
        "          extended_path = self.find_all_paths(vertex, end_vertex, path)\n",
        "          for p in extended_path:\n",
        "            paths.append(p)\n",
        "    return paths\n",
        "\n",
        "\n"
      ],
      "metadata": {
        "id": "VXWo9CyQbMAg"
      },
      "execution_count": 39,
      "outputs": []
    },
    {
      "cell_type": "markdown",
      "source": [
        "A graph depiction using Dictionaries then initializing the Graph Class with it:"
      ],
      "metadata": {
        "id": "eh3qvB5BGs_V"
      }
    },
    {
      "cell_type": "code",
      "source": [
        "graph = { \"A\" : [\"B\", \"C\"],\n",
        "          \"B\" : [\"D\", \"E\"],\n",
        "          \"C\" : [\"A\"],\n",
        "          \"D\" : [\"B\", \"E\"],\n",
        "          \"E\" : [\"B\", \"D\"]\n",
        "}\n",
        "g = Graph(graph)"
      ],
      "metadata": {
        "id": "Z78_PFhUfnkJ"
      },
      "execution_count": 40,
      "outputs": []
    },
    {
      "cell_type": "markdown",
      "source": [
        "Displaying nodes and edges using built-in __str__ method: "
      ],
      "metadata": {
        "id": "fHXmgCnBG1ak"
      }
    },
    {
      "cell_type": "code",
      "source": [
        "print(g)"
      ],
      "metadata": {
        "colab": {
          "base_uri": "https://localhost:8080/"
        },
        "id": "R7ULCQF4fphC",
        "outputId": "1a38bf47-7f6c-4a85-e328-eebe303b2aec"
      },
      "execution_count": 41,
      "outputs": [
        {
          "output_type": "stream",
          "name": "stdout",
          "text": [
            "nodes: A B C D E \n",
            "edeges: ('A', 'B') ('A', 'C') ('B', 'D') ('B', 'E') ('D', 'E') \n"
          ]
        }
      ]
    },
    {
      "cell_type": "markdown",
      "source": [
        "Adding nodes and a new edge:"
      ],
      "metadata": {
        "id": "rxIsdM8gHDEy"
      }
    },
    {
      "cell_type": "code",
      "source": [
        "g.add_node(\"F\")\n",
        "g.add_edge((\"C\",\"F\"))"
      ],
      "metadata": {
        "id": "yqi6Os4QgxAi"
      },
      "execution_count": 42,
      "outputs": []
    },
    {
      "cell_type": "markdown",
      "source": [
        "Showing the new graph:"
      ],
      "metadata": {
        "id": "LHHFUTY8HFY2"
      }
    },
    {
      "cell_type": "code",
      "source": [
        "print(g)"
      ],
      "metadata": {
        "colab": {
          "base_uri": "https://localhost:8080/"
        },
        "id": "yCFNCs6tgyvu",
        "outputId": "3dab507e-3353-4978-f2d7-61725a60d099"
      },
      "execution_count": 43,
      "outputs": [
        {
          "output_type": "stream",
          "name": "stdout",
          "text": [
            "nodes: A B C D E F \n",
            "edeges: ('A', 'B') ('A', 'C') ('B', 'D') ('B', 'E') ('C', 'F') ('D', 'E') \n"
          ]
        }
      ]
    },
    {
      "cell_type": "markdown",
      "source": [
        "Find a path from A to E:"
      ],
      "metadata": {
        "id": "_UKF7lNtHI-w"
      }
    },
    {
      "cell_type": "code",
      "source": [
        "g = Graph(graph)\n",
        "path = g.find_path(\"A\",\"E\")\n",
        "print(path)"
      ],
      "metadata": {
        "colab": {
          "base_uri": "https://localhost:8080/"
        },
        "id": "WR-hdzw-wEHs",
        "outputId": "bdfba2fa-1ae3-4f4d-9753-7c21410aeb9f"
      },
      "execution_count": 44,
      "outputs": [
        {
          "output_type": "stream",
          "name": "stdout",
          "text": [
            "['A', 'B', 'D', 'E']\n"
          ]
        }
      ]
    },
    {
      "cell_type": "markdown",
      "source": [
        "Find all paths from A to E:"
      ],
      "metadata": {
        "id": "5N4YXc1xHLzl"
      }
    },
    {
      "cell_type": "code",
      "source": [
        "g = Graph(graph)\n",
        "paths = g.find_all_paths(\"A\",\"E\")\n",
        "print(paths)"
      ],
      "metadata": {
        "colab": {
          "base_uri": "https://localhost:8080/"
        },
        "id": "BvyN-aAT6ual",
        "outputId": "d2813d9c-6b59-4de6-f93f-dbc4bac91cd2"
      },
      "execution_count": 45,
      "outputs": [
        {
          "output_type": "stream",
          "name": "stdout",
          "text": [
            "[['A', 'B', 'D', 'E'], ['A', 'B', 'E']]\n"
          ]
        }
      ]
    },
    {
      "cell_type": "markdown",
      "source": [
        "Minimum path from A to E:"
      ],
      "metadata": {
        "id": "6kFdhSrLHOG_"
      }
    },
    {
      "cell_type": "code",
      "source": [
        " print(min(paths, key=len))"
      ],
      "metadata": {
        "colab": {
          "base_uri": "https://localhost:8080/"
        },
        "id": "aqNkbRfc9qOs",
        "outputId": "ed6636f9-cc27-4ea5-d792-5c76dd5e532a"
      },
      "execution_count": 46,
      "outputs": [
        {
          "output_type": "stream",
          "name": "stdout",
          "text": [
            "['A', 'B', 'E']\n"
          ]
        }
      ]
    }
  ]
}